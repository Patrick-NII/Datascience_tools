{
 "cells": [
  {
   "cell_type": "markdown",
   "id": "d3c88b41-cc7c-4b62-b9f7-19d2e46fa007",
   "metadata": {},
   "source": [
    "# Exercice 2 - Data Science Tools and Ecosystem #"
   ]
  },
  {
   "cell_type": "markdown",
   "id": "627c5c52-7778-4654-9804-591c68af756f",
   "metadata": {},
   "source": [
    "## Exercice 3 - In this notebook, Data Science Tools and Ecosystem are summarized. ##"
   ]
  },
  {
   "cell_type": "markdown",
   "id": "b61f9b66-80e2-4377-be41-d70bff46f528",
   "metadata": {},
   "source": [
    "## Exercice 4 - Some of the popular languages that Data Scientists use are: ##\n",
    "- Python\n",
    "- R\n",
    "- SQL\n",
    "- Julia\n",
    "- Scala\n",
    "- Java"
   ]
  },
  {
   "cell_type": "markdown",
   "id": "ed403c5d-26ee-4834-af79-74b37497d047",
   "metadata": {},
   "source": [
    "## Exercice 5 - Some of the commonly used libraries used by Data Scientists include: ##\n",
    "- Pandas\n",
    "- Numpy\n",
    "- Scikit Learn\n",
    "- Matplotlib\n",
    "- Plotly\n",
    "- Seaborn\n",
    "- Keras\n",
    "- Beautiful Soup\n",
    "- Statsmodel\n",
    "- NetworkX\n",
    "- NLTK"
   ]
  },
  {
   "cell_type": "markdown",
   "id": "506e159a-75d5-4f94-a018-88e57c71cecf",
   "metadata": {},
   "source": [
    "## Exercice 6: Tools for Data Science ##\n",
    "- Python\n",
    "- R\n",
    "- Tensorflow\n",
    "- PyTorch\n",
    "- Shiny\n",
    "- ggplot2\n",
    "- Jupyter Notebook\n",
    "- Docker\n",
    "- Apache Hadoop\n",
    "- Apache Spark\n",
    "- Dataiku\n",
    "- Cloud\n",
    "- Apache Airflow\n",
    "- Kubeflow"
   ]
  },
  {
   "cell_type": "markdown",
   "id": "4cd81aa1-8a72-490b-92f4-4759ff401241",
   "metadata": {},
   "source": [
    "## Exercice 7 - Below are a few examples of evaluating arithmetic expressions in Python ##\n",
    "- (-) Negative operator\n",
    "- (+) Addition operator\n",
    "- (-) Subtraction operator\n",
    "- (*) Multiplication operator\n",
    "- (/) Division operator"
   ]
  },
  {
   "cell_type": "markdown",
   "id": "da320685-d184-468a-a632-469bcb7377f1",
   "metadata": {},
   "source": [
    "## Exercice 8 ##"
   ]
  },
  {
   "cell_type": "code",
   "execution_count": 29,
   "id": "527f75d0-a711-4559-b5df-5f649aa8266f",
   "metadata": {},
   "outputs": [],
   "source": [
    "a=5\n",
    "b=16\n",
    "c=2"
   ]
  },
  {
   "cell_type": "code",
   "execution_count": 31,
   "id": "76fc07ca-6fa9-476b-ae5c-5c4448fe9efe",
   "metadata": {},
   "outputs": [
    {
     "name": "stdout",
     "output_type": "stream",
     "text": [
      "42\n"
     ]
    }
   ],
   "source": [
    "print((a+b)*2)"
   ]
  },
  {
   "cell_type": "markdown",
   "id": "ee3a2a7d-7bcc-4749-9654-de4290c6d2aa",
   "metadata": {},
   "source": [
    "## Exercice 9 ##"
   ]
  },
  {
   "cell_type": "code",
   "execution_count": 108,
   "id": "83373998-8c0f-4357-864a-ce1c3c47eb2a",
   "metadata": {},
   "outputs": [],
   "source": [
    "def convert_hours(min):\n",
    "    return str(round(min)) +' '+ \"minutes in hour equals\"+' ' + str(min / 60) + ' ' + \"hours\""
   ]
  },
  {
   "cell_type": "code",
   "execution_count": 112,
   "id": "1af3741b-464d-491c-ba6e-70262c09a4e8",
   "metadata": {},
   "outputs": [
    {
     "data": {
      "text/plain": [
       "'120 minutes in hour equals 2.0 hours'"
      ]
     },
     "execution_count": 112,
     "metadata": {},
     "output_type": "execute_result"
    }
   ],
   "source": [
    "convert_hours(120)"
   ]
  },
  {
   "cell_type": "markdown",
   "id": "cc71ea3c-bf77-4c83-92d9-014fed6c627b",
   "metadata": {},
   "source": [
    "## Exercice 10 ## \n",
    "**Objectifs**\n",
    "- Title\n",
    "- "
   ]
  },
  {
   "cell_type": "markdown",
   "id": "7f92a20d-fb36-4514-a3bf-f073f427f7e1",
   "metadata": {},
   "source": [
    "## Exercice 11 ##\n",
    "- Autor: \n",
    "# Patrick NII ##"
   ]
  },
  {
   "cell_type": "markdown",
   "id": "1473edf7-154d-45b3-b15c-ab1822aefa41",
   "metadata": {},
   "source": [
    "## Exercice 12 ##"
   ]
  },
  {
   "cell_type": "markdown",
   "id": "da086031-927e-4fc0-bf20-171f33d043f5",
   "metadata": {},
   "source": [
    "## Exercice 13 ##"
   ]
  },
  {
   "cell_type": "code",
   "execution_count": null,
   "id": "25e8b524-e0a9-490d-9417-189a02c6de0f",
   "metadata": {},
   "outputs": [],
   "source": []
  }
 ],
 "metadata": {
  "kernelspec": {
   "display_name": "Python 3 (ipykernel)",
   "language": "python",
   "name": "python3"
  },
  "language_info": {
   "codemirror_mode": {
    "name": "ipython",
    "version": 3
   },
   "file_extension": ".py",
   "mimetype": "text/x-python",
   "name": "python",
   "nbconvert_exporter": "python",
   "pygments_lexer": "ipython3",
   "version": "3.11.5"
  },
  "widgets": {
   "application/vnd.jupyter.widget-state+json": {
    "state": {},
    "version_major": 2,
    "version_minor": 0
   }
  }
 },
 "nbformat": 4,
 "nbformat_minor": 5
}
